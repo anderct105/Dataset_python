{
 "cells": [
  {
   "cell_type": "markdown",
   "metadata": {},
   "source": [
    "# Dataset python package\n",
    "En este notebook se muestran las funcionalidades implementadas con una base de datos creada como ejemplo, probando primero con 2 atributos sueltos y luego con una base de datos creada a partir de esos dos atributos.\n",
    "\n",
    "# Atributos\n",
    "\n",
    "En este primer apartado vamos a usar los objetos atributos y algunas de sus funcionalidades, con las que trabajaremos luego con el objeto Dataset. Lo primero, creamos un atributo numérico y otro nominal para ver las diferentes opciones"
   ]
  },
  {
   "cell_type": "code",
   "execution_count": 1,
   "metadata": {
    "pycharm": {
     "name": "#%%\n"
    }
   },
   "outputs": [],
   "source": [
    "import pandas as pd\n",
    "\n",
    "from dataset.Attribute import Attribute\n",
    "from dataset.Dataset import Dataset\n",
    "from dataset.utils import roc, read_csv, create_log, write_log\n",
    "\n",
    "a1 = Attribute([1,2,3,2,1,2,3,3,2,1,1], 'categoria')\n",
    "a2 = Attribute([\"dog\", \"dog\", \"cat\", \"wolve\", \"cat\", \"dog\", \"dog\", \"dog\", \"cat\", \"wolve\", \"dog\"], \"animal\")"
   ]
  },
  {
   "cell_type": "markdown",
   "metadata": {},
   "source": [
    "Una vez creado el atributo, vamos a probar algunas funcionalidades.\n"
   ]
  },
  {
   "cell_type": "code",
   "execution_count": 2,
   "metadata": {
    "pycharm": {
     "name": "#%%\n"
    }
   },
   "outputs": [
    {
     "data": {
      "text/plain": [
       "1.5726236638951638"
      ]
     },
     "execution_count": 2,
     "metadata": {},
     "output_type": "execute_result"
    }
   ],
   "source": [
    "# Este método trata los datos como si fuesen categóricos\n",
    "a1.entropy()"
   ]
  },
  {
   "cell_type": "code",
   "execution_count": 3,
   "metadata": {
    "pycharm": {
     "name": "#%%\n"
    }
   },
   "outputs": [
    {
     "data": {
      "text/plain": [
       "1.4353713907745331"
      ]
     },
     "execution_count": 3,
     "metadata": {},
     "output_type": "execute_result"
    }
   ],
   "source": [
    "a2.entropy()"
   ]
  },
  {
   "cell_type": "code",
   "execution_count": 4,
   "metadata": {
    "pycharm": {
     "name": "#%%\n"
    }
   },
   "outputs": [
    {
     "name": "stdout",
     "output_type": "stream",
     "text": [
      "\n",
      " Attribute object\n",
      " ----------------\n",
      " Name: categoria\n",
      " Size: 11\n",
      " Values: \n",
      "\t[0.3333333333333333, 0.6666666666666666, 1.0, 0.6666666666666666, 0.3333333333333333, 0.6666666666666666, 1.0, 1.0, 0.6666666666666666, 0.3333333333333333, 0.3333333333333333]\n"
     ]
    }
   ],
   "source": [
    "# Normalizar y estandarizar\n",
    "a11 = a1.normalize()\n",
    "a12 = a1.estandarize()\n",
    "print(a11)"
   ]
  },
  {
   "cell_type": "markdown",
   "metadata": {},
   "source": []
  },
  {
   "cell_type": "code",
   "execution_count": 5,
   "metadata": {
    "pycharm": {
     "name": "#%%\n"
    }
   },
   "outputs": [
    {
     "name": "stdout",
     "output_type": "stream",
     "text": [
      "\n",
      " Attribute object\n",
      " ----------------\n",
      " Name: categoria\n",
      " Size: 11\n",
      " Values: \n",
      "\t[-0.1326045377253587, 0.013260453772535857, 0.1591254452704304, 0.013260453772535857, -0.1326045377253587, 0.013260453772535857, 0.1591254452704304, 0.1591254452704304, 0.013260453772535857, -0.1326045377253587, -0.1326045377253587]\n"
     ]
    }
   ],
   "source": [
    "print(a12)"
   ]
  },
  {
   "cell_type": "markdown",
   "metadata": {},
   "source": []
  },
  {
   "cell_type": "code",
   "execution_count": 6,
   "metadata": {
    "pycharm": {
     "name": "#%%\n"
    }
   },
   "outputs": [
    {
     "data": {
      "text/plain": [
       "0.628099173553719"
      ]
     },
     "execution_count": 6,
     "metadata": {},
     "output_type": "execute_result"
    }
   ],
   "source": [
    "a1.variance()"
   ]
  },
  {
   "cell_type": "code",
   "execution_count": 7,
   "metadata": {
    "pycharm": {
     "name": "#%%\n"
    }
   },
   "outputs": [
    {
     "name": "stdout",
     "output_type": "stream",
     "text": [
      "\n",
      " Attribute object\n",
      " ----------------\n",
      " Name: categoria\n",
      " Size: 11\n",
      " Values: \n",
      "\t['(1,2)', '(1,2)', '(1,2)', '(1,2)', '(2,3)', '(2,3)', '(2,3)', '(2,3)', '(3,inf)', '(3,inf)', '(3,inf)']\n"
     ]
    }
   ],
   "source": [
    "a21 = a1.discretizeEF(3)\n",
    "a22 = a1.discretizeEW(3)\n",
    "print(a21[0])"
   ]
  },
  {
   "cell_type": "code",
   "execution_count": 8,
   "metadata": {
    "pycharm": {
     "name": "#%%\n"
    }
   },
   "outputs": [
    {
     "name": "stdout",
     "output_type": "stream",
     "text": [
      "\n",
      " Attribute object\n",
      " ----------------\n",
      " Name: categoria\n",
      " Size: 11\n",
      " Values: \n",
      "\t['(inf,1.6666666666666665)', '(1.6666666666666665,3.333333333333333)', '(1.6666666666666665,3.333333333333333)', '(1.6666666666666665,3.333333333333333)', '(inf,1.6666666666666665)', '(1.6666666666666665,3.333333333333333)', '(1.6666666666666665,3.333333333333333)', '(1.6666666666666665,3.333333333333333)', '(1.6666666666666665,3.333333333333333)', '(inf,1.6666666666666665)', '(inf,1.6666666666666665)']\n"
     ]
    }
   ],
   "source": [
    "print(a22[0])"
   ]
  },
  {
   "cell_type": "markdown",
   "metadata": {},
   "source": [
    "# Dataset\n",
    "\n",
    "Ahora, vamos a pasar a trabajar con el objeto Dataset. Reutilizamos los atributos a1 y a2 y les añadimos una clase, como si de clasificación supervisada se tratase."
   ]
  },
  {
   "cell_type": "code",
   "execution_count": 9,
   "metadata": {
    "pycharm": {
     "name": "#%%\n"
    }
   },
   "outputs": [
    {
     "name": "stdout",
     "output_type": "stream",
     "text": [
      "2\n",
      "Dataset object\n",
      "------------------------\n",
      "Size: 11\n",
      "\n",
      " Attribute object\n",
      " ----------------\n",
      " Name: categoria\n",
      " Size: 11\n",
      " Values: \n",
      "\t[1, 2, 3, 2, 1, 2, 3, 3, 2, 1, 1]\n",
      " Attribute object\n",
      " ----------------\n",
      " Name: animal\n",
      " Size: 11\n",
      " Values: \n",
      "\t['dog', 'dog', 'cat', 'wolve', 'cat', 'dog', 'dog', 'dog', 'cat', 'wolve', 'dog']\n",
      " Attribute object\n",
      " ----------------\n",
      " Name: target\n",
      " Size: 11\n",
      " Values: \n",
      "\t['a', 'a', 'b', 'a', 'b', 'a', 'b', 'c', 'a', 'b', 'a']\n"
     ]
    }
   ],
   "source": [
    "# Definimos la clase de la base de datos\n",
    "clase = [\"a\", \"a\", \"b\", \"a\", \"b\", \"a\", \"b\", \"c\",\"a\",\"b\", \"a\"]\n",
    "\n",
    "d = Dataset()\n",
    "d = d.add_column(a1.name, None)\n",
    "d = d.add_column(a2.name, None)\n",
    "print(len(d.columns))\n",
    "for i in range(a1.size):\n",
    "    d.append([a1.v[i], a2.v[i], clase[i]])\n",
    "print(d)"
   ]
  },
  {
   "cell_type": "code",
   "execution_count": 10,
   "metadata": {
    "pycharm": {
     "name": "#%%\n"
    }
   },
   "outputs": [
    {
     "data": {
      "text/plain": [
       "[0.628099173553719, None]"
      ]
     },
     "execution_count": 10,
     "metadata": {},
     "output_type": "execute_result"
    }
   ],
   "source": [
    "d.col_var()"
   ]
  },
  {
   "cell_type": "code",
   "execution_count": 11,
   "metadata": {
    "pycharm": {
     "name": "#%%\n"
    }
   },
   "outputs": [
    {
     "data": {
      "text/plain": [
       "[1.5726236638951638, 1.4353713907745331]"
      ]
     },
     "execution_count": 11,
     "metadata": {},
     "output_type": "execute_result"
    }
   ],
   "source": [
    "d.col_entropy()"
   ]
  },
  {
   "cell_type": "markdown",
   "metadata": {},
   "source": [
    "Vemos que hemos calculado la varianza y la entropía por cada columna. Para la varianza, no se puede calcular la varianza de una variable categórica, pero en el caso de la entropía, la variable numérica la trata como categórica. Ahora, vamos a discretizar, normalizar y estandarizar el dataset como antes."
   ]
  },
  {
   "cell_type": "code",
   "execution_count": 12,
   "metadata": {
    "pycharm": {
     "name": "#%%\n"
    }
   },
   "outputs": [
    {
     "name": "stdout",
     "output_type": "stream",
     "text": [
      "Dataset object\n",
      "------------------------\n",
      "Size: 11\n",
      "\n",
      " Attribute object\n",
      " ----------------\n",
      " Name: categoria\n",
      " Size: 11\n",
      " Values: \n",
      "\t[-0.1326045377253587, 0.013260453772535857, 0.1591254452704304, 0.013260453772535857, -0.1326045377253587, 0.013260453772535857, 0.1591254452704304, 0.1591254452704304, 0.013260453772535857, -0.1326045377253587, -0.1326045377253587]\n",
      " Attribute object\n",
      " ----------------\n",
      " Name: animal\n",
      " Size: 11\n",
      " Values: \n",
      "\t['dog', 'dog', 'cat', 'wolve', 'cat', 'dog', 'dog', 'dog', 'cat', 'wolve', 'dog']\n",
      " Attribute object\n",
      " ----------------\n",
      " Name: target\n",
      " Size: 11\n",
      " Values: \n",
      "\t['a', 'a', 'b', 'a', 'b', 'a', 'b', 'c', 'a', 'b', 'a']\n"
     ]
    }
   ],
   "source": [
    "print(d.estandarize_dataset())"
   ]
  },
  {
   "cell_type": "markdown",
   "metadata": {},
   "source": [
    "Vemos que solo se ha modificado el atributo numérico."
   ]
  },
  {
   "cell_type": "code",
   "execution_count": 13,
   "metadata": {
    "pycharm": {
     "name": "#%%\n"
    }
   },
   "outputs": [
    {
     "name": "stdout",
     "output_type": "stream",
     "text": [
      "Dataset object\n",
      "------------------------\n",
      "Size: 11\n",
      "\n",
      " Attribute object\n",
      " ----------------\n",
      " Name: categoria\n",
      " Size: 11\n",
      " Values: \n",
      "\t[-0.3458572319330373, 0.034585723193303754, 0.4150286783196448, 0.034585723193303754, -0.3458572319330373, 0.034585723193303754, 0.4150286783196448, 0.4150286783196448, 0.034585723193303754, -0.3458572319330373, -0.3458572319330373]\n",
      " Attribute object\n",
      " ----------------\n",
      " Name: animal\n",
      " Size: 11\n",
      " Values: \n",
      "\t['dog', 'dog', 'cat', 'wolve', 'cat', 'dog', 'dog', 'dog', 'cat', 'wolve', 'dog']\n",
      " Attribute object\n",
      " ----------------\n",
      " Name: target\n",
      " Size: 11\n",
      " Values: \n",
      "\t['a', 'a', 'b', 'a', 'b', 'a', 'b', 'c', 'a', 'b', 'a']\n"
     ]
    }
   ],
   "source": [
    "print(d.normalize_dataset())"
   ]
  },
  {
   "cell_type": "markdown",
   "metadata": {
    "pycharm": {
     "name": "#%% md\n"
    }
   },
   "source": []
  },
  {
   "cell_type": "markdown",
   "metadata": {},
   "source": [
    "Vemos que en este caso, solo ha discretizado la columna numérica. También podemos sacar dos gráficas."
   ]
  },
  {
   "cell_type": "code",
   "execution_count": 14,
   "metadata": {
    "pycharm": {
     "name": "#%%\n"
    }
   },
   "outputs": [
    {
     "data": {
      "image/png": "[encoded data removed]",
      "text/plain": [
       "<Figure size 432x288 with 1 Axes>"
      ]
     },
     "metadata": {
      "needs_background": "light"
     },
     "output_type": "display_data"
    }
   ],
   "source": [
    "d.normalized_entropy_plot()"
   ]
  },
  {
   "cell_type": "code",
   "execution_count": 15,
   "metadata": {
    "pycharm": {
     "name": "#%%\n"
    }
   },
   "outputs": [
    {
     "data": {
      "image/png": "[encoded data removed]",
      "text/plain": [
       "<Figure size 432x288 with 2 Axes>"
      ]
     },
     "metadata": {
      "needs_background": "light"
     },
     "output_type": "display_data"
    }
   ],
   "source": [
    "# Añadimos otro atributo numérico para que se pueda ver algo en la siguiente gráfica\n",
    "c3 = [1,2,3,3,2,2,3,2,2,1,1]\n",
    "d.add_column(\"categoria2\", c3)\n",
    "d.correlation_plot()"
   ]
  },
  {
   "cell_type": "markdown",
   "metadata": {},
   "source": [
    "Como resultado del último plot, podemos ver un heatmap de correlación entre variables.\n",
    "\n",
    "## Funciones extras\n",
    "\n",
    "También se proveen algunas funciones extras para trabajar con logs o dibujar la curva roc. Para la curva roc, primero crearemos un dataframe en el que la primera columna será la probabilidad y la segunda la clase real."
   ]
  },
  {
   "cell_type": "code",
   "execution_count": 16,
   "metadata": {
    "pycharm": {
     "name": "#%%\n"
    }
   },
   "outputs": [
    {
     "data": {
      "image/png": "[encoded data removed]",
      "text/plain": [
       "<Figure size 432x288 with 1 Axes>"
      ]
     },
     "metadata": {
      "needs_background": "light"
     },
     "output_type": "display_data"
    }
   ],
   "source": [
    "df = pd.DataFrame({\"PROBS\": [0.6,0.8,0.1,0.7,0.5,0.4,0.6,0.6,0.9,1], \"CLASE\": [True,True,True,False,False,True,True,False,True,False]})\n",
    "roc(df)"
   ]
  },
  {
   "cell_type": "markdown",
   "metadata": {},
   "source": [
    "Y por último, leer un csv y algunas funciones de log."
   ]
  },
  {
   "cell_type": "code",
   "execution_count": 17,
   "metadata": {
    "pycharm": {
     "name": "#%%\n"
    }
   },
   "outputs": [
    {
     "name": "stdout",
     "output_type": "stream",
     "text": [
      "     sepal.length  sepal.width  petal.length  petal.width    variety\n",
      "0             5.1          3.5           1.4          0.2     Setosa\n",
      "1             4.9          3.0           1.4          0.2     Setosa\n",
      "2             4.7          3.2           1.3          0.2     Setosa\n",
      "3             4.6          3.1           1.5          0.2     Setosa\n",
      "4             5.0          3.6           1.4          0.2     Setosa\n",
      "..            ...          ...           ...          ...        ...\n",
      "145           6.7          3.0           5.2          2.3  Virginica\n",
      "146           6.3          2.5           5.0          1.9  Virginica\n",
      "147           6.5          3.0           5.2          2.0  Virginica\n",
      "148           6.2          3.4           5.4          2.3  Virginica\n",
      "149           5.9          3.0           5.1          1.8  Virginica\n",
      "\n",
      "[150 rows x 5 columns]\n"
     ]
    }
   ],
   "source": [
    "print(read_csv('iris.csv'))"
   ]
  },
  {
   "cell_type": "code",
   "execution_count": 18,
   "metadata": {
    "pycharm": {
     "name": "#%%\n"
    }
   },
   "outputs": [
    {
     "name": "stdout",
     "output_type": "stream",
     "text": [
      "\n",
      "2022-01-03 - Nuevo mensaje\n"
     ]
    }
   ],
   "source": [
    "# Creamos archivo miLog.log\n",
    "create_log(\"miLog.log\")\n",
    "write_log(\"miLog.log\", \"Nuevo mensaje\")\n",
    "# Vemos que efectivamente sea escrito en el archivo\n",
    "with open('miLog.log', \"r\") as f:\n",
    "    text = f.read()\n",
    "    print(text)"
   ]
  },
  {
   "cell_type": "markdown",
   "metadata": {
    "pycharm": {
     "name": "#%% md\n"
    }
   },
   "source": []
  }
 ],
 "metadata": {
  "kernelspec": {
   "display_name": "Python 3 (ipykernel)",
   "language": "python",
   "name": "python3"
  },
  "language_info": {
   "codemirror_mode": {
    "name": "ipython",
    "version": 3
   },
   "file_extension": ".py",
   "mimetype": "text/x-python",
   "name": "python",
   "nbconvert_exporter": "python",
   "pygments_lexer": "ipython3",
   "version": "3.9.9"
  }
 },
 "nbformat": 4,
 "nbformat_minor": 1
}